{
  "nbformat": 4,
  "nbformat_minor": 0,
  "metadata": {
    "colab": {
      "name": "Copy of ProfessionClassifier.ipynb",
      "provenance": [],
      "collapsed_sections": []
    },
    "kernelspec": {
      "name": "python3",
      "display_name": "Python 3"
    }
  },
  "cells": [
    {
      "cell_type": "code",
      "metadata": {
        "id": "Bq1_z-y5oEYC",
        "colab_type": "code",
        "colab": {}
      },
      "source": [
        "pip install tensorflow==1.15.2"
      ],
      "execution_count": null,
      "outputs": []
    },
    {
      "cell_type": "code",
      "metadata": {
        "id": "w_dRRb-boEpI",
        "colab_type": "code",
        "colab": {}
      },
      "source": [
        "pip install keras==1.0.7"
      ],
      "execution_count": null,
      "outputs": []
    },
    {
      "cell_type": "code",
      "metadata": {
        "id": "pvyixpdzoE22",
        "colab_type": "code",
        "colab": {}
      },
      "source": [
        "# Download our set of Images by importing it in our colab\n",
        "!wget http://devanshushukla.com/hackveda.in/videos/PythonDataSets/idenprof-jpg.zip"
      ],
      "execution_count": null,
      "outputs": []
    },
    {
      "cell_type": "code",
      "metadata": {
        "id": "Px8G_Q3VLEHK",
        "colab_type": "code",
        "colab": {}
      },
      "source": [
        "# Unzip the imported dataset\n",
        "!unzip idenprof-jpg.zip"
      ],
      "execution_count": null,
      "outputs": []
    },
    {
      "cell_type": "code",
      "metadata": {
        "id": "7b7LOena-L3M",
        "colab_type": "code",
        "colab": {}
      },
      "source": [
        "# Installing necessary library from github --> AI library which gonna train our set of images \n",
        "!pip3 install https://github.com/OlafenwaMoses/ImageAI/releases/download/2.0.2/imageai-2.0.2-py3-none-any.whl"
      ],
      "execution_count": null,
      "outputs": []
    },
    {
      "cell_type": "code",
      "metadata": {
        "id": "uYX_ZljgNsAb",
        "colab_type": "code",
        "colab": {}
      },
      "source": [
        "# Importing ImageAI model training class\n",
        "# (module- Model Training, package- imageai.Prediction.Custom)\n",
        "from imageai.Prediction.Custom import ModelTraining\n",
        "\n",
        "# Create an instance Of ModelTraining Class\n",
        "model_trainer = ModelTraining()\n",
        "\n",
        "# set the model type as ResNet-->classification model(most used) through which we are going to train our images\n",
        "# ResNET is best image classification model when dealing with images pixel by pixel\n",
        "model_trainer.setModelTypeAsResNet()\n",
        "\n",
        "# specify data Directory\n",
        "'''to set data directory is imp as it shows from where does the model get images \n",
        "both for training and testing i.e path, here the path in google colab while \n",
        "unzipping is \"idenprof\" '''\n",
        "model_trainer.setDataDirectory('idenprof')\n",
        "\n",
        "# Train Our Images\n",
        "# trainModel() --> used to train your images\n",
        "# FirstArgument --> num_objects # used to specify how many object we are going\n",
        "# to train\n",
        "# Second Argument --> num_experiments # this is the number of times the model \n",
        "# trainer will study all the images\n",
        "# Third Argument --> enhance_data = True [Optional]\n",
        "# this is to tell the model trainer to create modified copies of the images \n",
        "# Forth Argument --> batch_size # this tell your model trainer how many number\n",
        "# of images it should read \n",
        "# Fifth Argunent --> show_network_summary [Optional]\n",
        "\n",
        "\n",
        "model_trainer.trainModel(num_objects=10,num_experiments=200,\n",
        "                         enhance_data=True,batch_size=32,\n",
        "                        show_network_summary=True)\n"
      ],
      "execution_count": null,
      "outputs": []
    },
    {
      "cell_type": "code",
      "metadata": {
        "id": "XZIvM0dPucAV",
        "colab_type": "code",
        "colab": {}
      },
      "source": [
        "'''After training of model we will get two files:\n",
        "JSON file --> .json\n",
        "model file --> .h5\n",
        "'''"
      ],
      "execution_count": null,
      "outputs": []
    },
    {
      "cell_type": "code",
      "metadata": {
        "id": "2RHL0JJXLEp-",
        "colab_type": "code",
        "colab": {}
      },
      "source": [
        "!wget http://devanshushukla.com/hackveda.in/videos/idenprof_model_class.zip"
      ],
      "execution_count": null,
      "outputs": []
    },
    {
      "cell_type": "code",
      "metadata": {
        "id": "N1HdvSSiKerw",
        "colab_type": "code",
        "colab": {}
      },
      "source": [
        "!unzip idenprof_model_class.zip"
      ],
      "execution_count": null,
      "outputs": []
    },
    {
      "cell_type": "code",
      "metadata": {
        "id": "XqHI4VvbKl8j",
        "colab_type": "code",
        "colab": {}
      },
      "source": [
        "from google.colab import files\n",
        "uplaod = files.upload()"
      ],
      "execution_count": null,
      "outputs": []
    },
    {
      "cell_type": "code",
      "metadata": {
        "id": "JZVxEt8QvFBM",
        "colab_type": "code",
        "colab": {}
      },
      "source": [
        ""
      ],
      "execution_count": null,
      "outputs": []
    },
    {
      "cell_type": "code",
      "metadata": {
        "id": "QDoXOfioHH19",
        "colab_type": "code",
        "colab": {}
      },
      "source": [
        "# Prediction\n",
        "from imageai.Prediction.Custom import CustomImagePrediction\n",
        "from IPython.display import Image,display\n",
        "\n",
        "# Create an Instance of CustomImagePrediction\n",
        "prediction = CustomImagePrediction() \n",
        "\n",
        "# Set the model type\n",
        "prediction.setModelTypeAsResNet()\n",
        "\n",
        "# Set the model path --> here we need to specify our model file\n",
        "prediction.setModelPath('idenprof_061-0.7933.h5')\n",
        "\n",
        "# Set the json Path --> here we need to specify the JSON File\n",
        "prediction.setJsonPath('idenprof_model_class.json')\n",
        "\n",
        "prediction.loadModel(num_objects=10)\n",
        "predictions , probabilities = prediction.predictImage('mech.jpg',result_count=3)\n",
        "display(Image('mech.jpg',width=100,height=100))\n",
        "\n",
        "for eachPrediction , eachProbability in zip(predictions,probabilities):\n",
        "  print(eachPrediction,\" : \",eachProbability)"
      ],
      "execution_count": null,
      "outputs": []
    }
  ]
}